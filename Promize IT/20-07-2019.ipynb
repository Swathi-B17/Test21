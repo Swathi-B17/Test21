{
 "cells": [
  {
   "cell_type": "markdown",
   "metadata": {},
   "source": [
    "  # Document Title\n",
    "  \n",
    "  ### Date:20 july 2019\n",
    "  \n",
    "  ### Session objectives\n",
    "  * to introduce Jupiter notebooks\n",
    "  * to teach ***markdown*** syntax\n",
    "  * to introduce **python** basics\n",
    "    * Basic Syntax(Variables,Assignment,Data Types)\n",
    "    * Control Structures\n",
    "      1. conditional\n",
    "      2. Repetitive\n",
    " \n",
    "  <img src='python logo.jpg'/>\n",
    "  \n",
    "  link to main website:basicshttps://sites.google.com/s/1yeSSGH522DNWzca4ax_U65K66pmssyta/p/1EAIny72NQRVcWDHW8zV4T_fDqtauHzVe/"
   ]
  },
  {
   "cell_type": "markdown",
   "metadata": {},
   "source": [
    "### python Basics"
   ]
  },
  {
   "cell_type": "code",
   "execution_count": 6,
   "metadata": {},
   "outputs": [
    {
     "name": "stdout",
     "output_type": "stream",
     "text": [
      "Hello world !\n",
      "Hello world  Helloworld \n"
     ]
    }
   ],
   "source": [
    "print(\"Hello world !\")\n",
    "print(\"Hello\",\"world \" , end=\" \")\n",
    "print(\"Hello\"+\"world \")"
   ]
  },
  {
   "cell_type": "code",
   "execution_count": 8,
   "metadata": {},
   "outputs": [
    {
     "name": "stdout",
     "output_type": "stream",
     "text": [
      "Enter a value1234556\n",
      "\n",
      " 1234556\n"
     ]
    }
   ],
   "source": [
    "#This is a comment\n",
    "\n",
    "n = input(\"Enter a value\")\n",
    "print('\\n', n)\n"
   ]
  },
  {
   "cell_type": "code",
   "execution_count": null,
   "metadata": {},
   "outputs": [],
   "source": []
  }
 ],
 "metadata": {
  "kernelspec": {
   "display_name": "Python 3",
   "language": "python",
   "name": "python3"
  },
  "language_info": {
   "codemirror_mode": {
    "name": "ipython",
    "version": 3
   },
   "file_extension": ".py",
   "mimetype": "text/x-python",
   "name": "python",
   "nbconvert_exporter": "python",
   "pygments_lexer": "ipython3",
   "version": "3.7.3"
  }
 },
 "nbformat": 4,
 "nbformat_minor": 2
}
